{
  "cells": [
    {
      "cell_type": "code",
      "execution_count": null,
      "metadata": {},
      "outputs": [],
      "source": [
        "#pip install yfinance"
      ]
    },
    {
      "cell_type": "code",
      "execution_count": null,
      "metadata": {},
      "outputs": [],
      "source": [
        "#pip install pandas-datareader"
      ]
    },
    {
      "cell_type": "code",
      "execution_count": null,
      "metadata": {},
      "outputs": [],
      "source": [
        "#pip install plotly"
      ]
    },
    {
      "cell_type": "code",
      "execution_count": 2,
      "metadata": {},
      "outputs": [],
      "source": [
        "import pandas as pd # tool for data processing\n",
        "from pandas_datareader import data # tool for data processing\n",
        "import plotly.graph_objects as go # tool for data visualization\n",
        "import yfinance as yf # tool for downloading histrocial market data from \"Yahoo! Finance\"\n",
        "from datetime import date # tool for manipulating dates and times\n",
        "from dateutil.relativedelta import relativedelta # tool for manipulating dates and times\n",
        "import numpy as np # tool for handling vectors, matrices or large multidimensional arrays\n",
        "from sklearn.linear_model import LinearRegression # tool for machine leraning (Linear Model)\n",
        "from sklearn.model_selection import train_test_split # tool for machine learning\n",
        "import matplotlib.pyplot as plt\n",
        "import seaborn as sns\n",
        "#import riskfolio as rp\n",
        "import plotly.express as px"
      ]
    },
    {
      "cell_type": "code",
      "execution_count": 3,
      "metadata": {},
      "outputs": [],
      "source": [
        "class color:\n",
        "   PURPLE = '\\033[95m'\n",
        "   CYAN = '\\033[96m'\n",
        "   DARKCYAN = '\\033[36m'\n",
        "   BLUE = '\\033[94m'\n",
        "   GREEN = '\\033[92m'\n",
        "   YELLOW = '\\033[93m'\n",
        "   RED = '\\033[91m'\n",
        "   BOLD = '\\033[1m'\n",
        "   UNDERLINE = '\\033[4m'\n",
        "   END = '\\033[0m'"
      ]
    },
    {
      "cell_type": "code",
      "execution_count": 4,
      "metadata": {},
      "outputs": [
        {
          "name": "stdout",
          "output_type": "stream",
          "text": [
            "3 asset(s) selected\n",
            "Select a stock index:\n",
            "1: ^GSPC\n",
            "2: ^DJI\n",
            "3: ^IXIC\n",
            "4: ^NYA\n",
            "5: ^RUT\n",
            "[*********************100%***********************]  3 of 3 completed\n",
            "[*********************100%***********************]  1 of 1 completed\n",
            "\u001b[1m\u001b[4m\n",
            "> Have a look at the different options on analyzing the stock data:\u001b[0m\n",
            "\n",
            "What would you like to do: \n",
            "    A - Show me the Assset Comparison\n",
            "    B - Show me Portfolio Performance\n",
            "    C - Show me the Forecast on Portfolio Return\n",
            "    Q - Quit the program\n",
            "    \n"
          ]
        },
        {
          "name": "stderr",
          "output_type": "stream",
          "text": [
            "c:\\Users\\abc\\anaconda3\\lib\\site-packages\\statsmodels\\tsa\\base\\tsa_model.py:581: ValueWarning: A date index has been provided, but it has no associated frequency information and so will be ignored when e.g. forecasting.\n",
            "  warnings.warn('A date index has been provided, but it has no'\n",
            "c:\\Users\\abc\\anaconda3\\lib\\site-packages\\statsmodels\\tsa\\ar_model.py:248: FutureWarning: The parameter names will change after 0.12 is released. Set old_names to False to use the new names now. Set old_names to True to use the old names. \n",
            "  warnings.warn(\n",
            "c:\\Users\\abc\\anaconda3\\lib\\site-packages\\statsmodels\\tsa\\base\\tsa_model.py:581: ValueWarning: A date index has been provided, but it has no associated frequency information and so will be ignored when e.g. forecasting.\n",
            "  warnings.warn('A date index has been provided, but it has no'\n",
            "c:\\Users\\abc\\anaconda3\\lib\\site-packages\\statsmodels\\tsa\\base\\tsa_model.py:581: ValueWarning: A date index has been provided, but it has no associated frequency information and so will be ignored when e.g. forecasting.\n",
            "  warnings.warn('A date index has been provided, but it has no'\n",
            "c:\\Users\\abc\\anaconda3\\lib\\site-packages\\statsmodels\\tsa\\base\\tsa_model.py:581: ValueWarning: A date index has been provided, but it has no associated frequency information and so will be ignored when e.g. forecasting.\n",
            "  warnings.warn('A date index has been provided, but it has no'\n",
            "c:\\Users\\abc\\anaconda3\\lib\\site-packages\\statsmodels\\tsa\\base\\tsa_model.py:581: ValueWarning: A date index has been provided, but it has no associated frequency information and so will be ignored when e.g. forecasting.\n",
            "  warnings.warn('A date index has been provided, but it has no'\n",
            "c:\\Users\\abc\\anaconda3\\lib\\site-packages\\statsmodels\\tsa\\base\\tsa_model.py:581: ValueWarning: A date index has been provided, but it has no associated frequency information and so will be ignored when e.g. forecasting.\n",
            "  warnings.warn('A date index has been provided, but it has no'\n",
            "c:\\Users\\abc\\anaconda3\\lib\\site-packages\\statsmodels\\tsa\\base\\tsa_model.py:581: ValueWarning: A date index has been provided, but it has no associated frequency information and so will be ignored when e.g. forecasting.\n",
            "  warnings.warn('A date index has been provided, but it has no'\n",
            "c:\\Users\\abc\\anaconda3\\lib\\site-packages\\statsmodels\\tsa\\base\\tsa_model.py:581: ValueWarning: A date index has been provided, but it has no associated frequency information and so will be ignored when e.g. forecasting.\n",
            "  warnings.warn('A date index has been provided, but it has no'\n",
            "c:\\Users\\abc\\anaconda3\\lib\\site-packages\\statsmodels\\tsa\\base\\tsa_model.py:581: ValueWarning: A date index has been provided, but it has no associated frequency information and so will be ignored when e.g. forecasting.\n",
            "  warnings.warn('A date index has been provided, but it has no'\n",
            "c:\\Users\\abc\\anaconda3\\lib\\site-packages\\statsmodels\\tsa\\base\\tsa_model.py:581: ValueWarning: A date index has been provided, but it has no associated frequency information and so will be ignored when e.g. forecasting.\n",
            "  warnings.warn('A date index has been provided, but it has no'\n",
            "c:\\Users\\abc\\anaconda3\\lib\\site-packages\\statsmodels\\tsa\\base\\tsa_model.py:581: ValueWarning: A date index has been provided, but it has no associated frequency information and so will be ignored when e.g. forecasting.\n",
            "  warnings.warn('A date index has been provided, but it has no'\n",
            "c:\\Users\\abc\\anaconda3\\lib\\site-packages\\statsmodels\\tsa\\base\\tsa_model.py:581: ValueWarning: A date index has been provided, but it has no associated frequency information and so will be ignored when e.g. forecasting.\n",
            "  warnings.warn('A date index has been provided, but it has no'\n",
            "c:\\Users\\abc\\anaconda3\\lib\\site-packages\\statsmodels\\tsa\\base\\tsa_model.py:581: ValueWarning: A date index has been provided, but it has no associated frequency information and so will be ignored when e.g. forecasting.\n",
            "  warnings.warn('A date index has been provided, but it has no'\n",
            "c:\\Users\\abc\\anaconda3\\lib\\site-packages\\statsmodels\\tsa\\base\\tsa_model.py:581: ValueWarning: A date index has been provided, but it has no associated frequency information and so will be ignored when e.g. forecasting.\n",
            "  warnings.warn('A date index has been provided, but it has no'\n",
            "c:\\Users\\abc\\anaconda3\\lib\\site-packages\\statsmodels\\tsa\\base\\tsa_model.py:581: ValueWarning: A date index has been provided, but it has no associated frequency information and so will be ignored when e.g. forecasting.\n",
            "  warnings.warn('A date index has been provided, but it has no'\n",
            "c:\\Users\\abc\\anaconda3\\lib\\site-packages\\statsmodels\\tsa\\base\\tsa_model.py:581: ValueWarning: A date index has been provided, but it has no associated frequency information and so will be ignored when e.g. forecasting.\n",
            "  warnings.warn('A date index has been provided, but it has no'\n",
            "c:\\Users\\abc\\anaconda3\\lib\\site-packages\\statsmodels\\tsa\\base\\tsa_model.py:581: ValueWarning: A date index has been provided, but it has no associated frequency information and so will be ignored when e.g. forecasting.\n",
            "  warnings.warn('A date index has been provided, but it has no'\n",
            "c:\\Users\\abc\\anaconda3\\lib\\site-packages\\statsmodels\\tsa\\base\\tsa_model.py:581: ValueWarning: A date index has been provided, but it has no associated frequency information and so will be ignored when e.g. forecasting.\n",
            "  warnings.warn('A date index has been provided, but it has no'\n",
            "c:\\Users\\abc\\anaconda3\\lib\\site-packages\\statsmodels\\tsa\\base\\tsa_model.py:581: ValueWarning: A date index has been provided, but it has no associated frequency information and so will be ignored when e.g. forecasting.\n",
            "  warnings.warn('A date index has been provided, but it has no'\n",
            "c:\\Users\\abc\\anaconda3\\lib\\site-packages\\statsmodels\\tsa\\base\\tsa_model.py:581: ValueWarning: A date index has been provided, but it has no associated frequency information and so will be ignored when e.g. forecasting.\n",
            "  warnings.warn('A date index has been provided, but it has no'\n",
            "c:\\Users\\abc\\anaconda3\\lib\\site-packages\\statsmodels\\tsa\\base\\tsa_model.py:581: ValueWarning: A date index has been provided, but it has no associated frequency information and so will be ignored when e.g. forecasting.\n",
            "  warnings.warn('A date index has been provided, but it has no'\n",
            "c:\\Users\\abc\\anaconda3\\lib\\site-packages\\statsmodels\\tsa\\base\\tsa_model.py:581: ValueWarning: A date index has been provided, but it has no associated frequency information and so will be ignored when e.g. forecasting.\n",
            "  warnings.warn('A date index has been provided, but it has no'\n",
            "c:\\Users\\abc\\anaconda3\\lib\\site-packages\\statsmodels\\tsa\\base\\tsa_model.py:581: ValueWarning: A date index has been provided, but it has no associated frequency information and so will be ignored when e.g. forecasting.\n",
            "  warnings.warn('A date index has been provided, but it has no'\n",
            "c:\\Users\\abc\\anaconda3\\lib\\site-packages\\statsmodels\\tsa\\base\\tsa_model.py:581: ValueWarning: A date index has been provided, but it has no associated frequency information and so will be ignored when e.g. forecasting.\n",
            "  warnings.warn('A date index has been provided, but it has no'\n",
            "c:\\Users\\abc\\anaconda3\\lib\\site-packages\\statsmodels\\tsa\\base\\tsa_model.py:581: ValueWarning: A date index has been provided, but it has no associated frequency information and so will be ignored when e.g. forecasting.\n",
            "  warnings.warn('A date index has been provided, but it has no'\n",
            "c:\\Users\\abc\\anaconda3\\lib\\site-packages\\statsmodels\\tsa\\base\\tsa_model.py:581: ValueWarning: A date index has been provided, but it has no associated frequency information and so will be ignored when e.g. forecasting.\n",
            "  warnings.warn('A date index has been provided, but it has no'\n",
            "c:\\Users\\abc\\anaconda3\\lib\\site-packages\\statsmodels\\tsa\\base\\tsa_model.py:581: ValueWarning: A date index has been provided, but it has no associated frequency information and so will be ignored when e.g. forecasting.\n",
            "  warnings.warn('A date index has been provided, but it has no'\n",
            "c:\\Users\\abc\\anaconda3\\lib\\site-packages\\statsmodels\\tsa\\base\\tsa_model.py:581: ValueWarning: A date index has been provided, but it has no associated frequency information and so will be ignored when e.g. forecasting.\n",
            "  warnings.warn('A date index has been provided, but it has no'\n",
            "c:\\Users\\abc\\anaconda3\\lib\\site-packages\\statsmodels\\tsa\\statespace\\sarimax.py:966: UserWarning: Non-stationary starting autoregressive parameters found. Using zeros as starting parameters.\n",
            "  warn('Non-stationary starting autoregressive parameters'\n",
            "c:\\Users\\abc\\anaconda3\\lib\\site-packages\\statsmodels\\tsa\\statespace\\sarimax.py:978: UserWarning: Non-invertible starting MA parameters found. Using zeros as starting parameters.\n",
            "  warn('Non-invertible starting MA parameters found.'\n",
            "c:\\Users\\abc\\anaconda3\\lib\\site-packages\\statsmodels\\base\\model.py:566: ConvergenceWarning: Maximum Likelihood optimization failed to converge. Check mle_retvals\n",
            "  warnings.warn(\"Maximum Likelihood optimization failed to \"\n",
            "c:\\Users\\abc\\anaconda3\\lib\\site-packages\\statsmodels\\tsa\\base\\tsa_model.py:376: ValueWarning: No supported index is available. Prediction results will be given with an integer index beginning at `start`.\n",
            "  warnings.warn('No supported index is available.'\n",
            "c:\\Users\\abc\\anaconda3\\lib\\site-packages\\statsmodels\\tsa\\base\\tsa_model.py:581: ValueWarning: A date index has been provided, but it has no associated frequency information and so will be ignored when e.g. forecasting.\n",
            "  warnings.warn('A date index has been provided, but it has no'\n",
            "c:\\Users\\abc\\anaconda3\\lib\\site-packages\\statsmodels\\tsa\\base\\tsa_model.py:581: ValueWarning: A date index has been provided, but it has no associated frequency information and so will be ignored when e.g. forecasting.\n",
            "  warnings.warn('A date index has been provided, but it has no'\n",
            "c:\\Users\\abc\\anaconda3\\lib\\site-packages\\statsmodels\\tsa\\base\\tsa_model.py:581: ValueWarning: A date index has been provided, but it has no associated frequency information and so will be ignored when e.g. forecasting.\n",
            "  warnings.warn('A date index has been provided, but it has no'\n",
            "c:\\Users\\abc\\anaconda3\\lib\\site-packages\\statsmodels\\tsa\\statespace\\sarimax.py:966: UserWarning: Non-stationary starting autoregressive parameters found. Using zeros as starting parameters.\n",
            "  warn('Non-stationary starting autoregressive parameters'\n",
            "c:\\Users\\abc\\anaconda3\\lib\\site-packages\\statsmodels\\tsa\\statespace\\sarimax.py:978: UserWarning: Non-invertible starting MA parameters found. Using zeros as starting parameters.\n",
            "  warn('Non-invertible starting MA parameters found.'\n",
            "c:\\Users\\abc\\anaconda3\\lib\\site-packages\\statsmodels\\base\\model.py:566: ConvergenceWarning: Maximum Likelihood optimization failed to converge. Check mle_retvals\n",
            "  warnings.warn(\"Maximum Likelihood optimization failed to \"\n",
            "c:\\Users\\abc\\anaconda3\\lib\\site-packages\\statsmodels\\tsa\\base\\tsa_model.py:376: ValueWarning: No supported index is available. Prediction results will be given with an integer index beginning at `start`.\n",
            "  warnings.warn('No supported index is available.'\n"
          ]
        },
        {
          "data": {
            "application/vnd.plotly.v1+json": {
              "config": {
                "plotlyServerURL": "https://plot.ly"
              },
              "data": [
                {
                  "name": "Actual",
                  "type": "scatter",
                  "x": [
                    "2021-01-04T00:00:00",
                    "2021-01-05T00:00:00",
                    "2021-01-06T00:00:00",
                    "2021-01-07T00:00:00",
                    "2021-01-08T00:00:00",
                    "2021-01-11T00:00:00",
                    "2021-01-12T00:00:00",
                    "2021-01-13T00:00:00",
                    "2021-01-14T00:00:00",
                    "2021-01-15T00:00:00",
                    "2021-01-19T00:00:00",
                    "2021-01-20T00:00:00",
                    "2021-01-21T00:00:00",
                    "2021-01-22T00:00:00",
                    "2021-01-25T00:00:00",
                    "2021-01-26T00:00:00",
                    "2021-01-27T00:00:00",
                    "2021-01-28T00:00:00",
                    "2021-01-29T00:00:00",
                    "2021-02-01T00:00:00",
                    "2021-02-02T00:00:00",
                    "2021-02-03T00:00:00",
                    "2021-02-04T00:00:00",
                    "2021-02-05T00:00:00",
                    "2021-02-08T00:00:00",
                    "2021-02-09T00:00:00",
                    "2021-02-10T00:00:00",
                    "2021-02-11T00:00:00",
                    "2021-02-12T00:00:00",
                    "2021-02-16T00:00:00",
                    "2021-02-17T00:00:00",
                    "2021-02-18T00:00:00",
                    "2021-02-19T00:00:00",
                    "2021-02-22T00:00:00",
                    "2021-02-23T00:00:00",
                    "2021-02-24T00:00:00",
                    "2021-02-25T00:00:00",
                    "2021-02-26T00:00:00",
                    "2021-03-01T00:00:00",
                    "2021-03-02T00:00:00",
                    "2021-03-03T00:00:00",
                    "2021-03-04T00:00:00",
                    "2021-03-05T00:00:00",
                    "2021-03-08T00:00:00",
                    "2021-03-09T00:00:00",
                    "2021-03-10T00:00:00",
                    "2021-03-11T00:00:00",
                    "2021-03-12T00:00:00",
                    "2021-03-15T00:00:00",
                    "2021-03-16T00:00:00",
                    "2021-03-17T00:00:00",
                    "2021-03-18T00:00:00",
                    "2021-03-19T00:00:00",
                    "2021-03-22T00:00:00",
                    "2021-03-23T00:00:00",
                    "2021-03-24T00:00:00",
                    "2021-03-25T00:00:00",
                    "2021-03-26T00:00:00",
                    "2021-03-29T00:00:00",
                    "2021-03-30T00:00:00",
                    "2021-03-31T00:00:00",
                    "2021-04-01T00:00:00",
                    "2021-04-05T00:00:00",
                    "2021-04-06T00:00:00",
                    "2021-04-07T00:00:00",
                    "2021-04-08T00:00:00",
                    "2021-04-09T00:00:00",
                    "2021-04-12T00:00:00",
                    "2021-04-13T00:00:00",
                    "2021-04-14T00:00:00",
                    "2021-04-15T00:00:00",
                    "2021-04-16T00:00:00",
                    "2021-04-19T00:00:00",
                    "2021-04-20T00:00:00",
                    "2021-04-21T00:00:00",
                    "2021-04-22T00:00:00",
                    "2021-04-23T00:00:00",
                    "2021-04-26T00:00:00",
                    "2021-04-27T00:00:00",
                    "2021-04-28T00:00:00",
                    "2021-04-29T00:00:00",
                    "2021-04-30T00:00:00",
                    "2021-05-03T00:00:00",
                    "2021-05-04T00:00:00",
                    "2021-05-05T00:00:00",
                    "2021-05-06T00:00:00",
                    "2021-05-07T00:00:00",
                    "2021-05-10T00:00:00",
                    "2021-05-11T00:00:00",
                    "2021-05-12T00:00:00",
                    "2021-05-13T00:00:00",
                    "2021-05-14T00:00:00",
                    "2021-05-17T00:00:00",
                    "2021-05-18T00:00:00",
                    "2021-05-19T00:00:00",
                    "2021-05-20T00:00:00",
                    "2021-05-21T00:00:00",
                    "2021-05-24T00:00:00",
                    "2021-05-25T00:00:00",
                    "2021-05-26T00:00:00",
                    "2021-05-27T00:00:00",
                    "2021-05-28T00:00:00",
                    "2021-06-01T00:00:00",
                    "2021-06-02T00:00:00",
                    "2021-06-03T00:00:00",
                    "2021-06-04T00:00:00",
                    "2021-06-07T00:00:00",
                    "2021-06-08T00:00:00",
                    "2021-06-09T00:00:00",
                    "2021-06-10T00:00:00",
                    "2021-06-11T00:00:00",
                    "2021-06-14T00:00:00",
                    "2021-06-15T00:00:00",
                    "2021-06-16T00:00:00",
                    "2021-06-17T00:00:00",
                    "2021-06-18T00:00:00",
                    "2021-06-21T00:00:00",
                    "2021-06-22T00:00:00",
                    "2021-06-23T00:00:00",
                    "2021-06-24T00:00:00",
                    "2021-06-25T00:00:00",
                    "2021-06-28T00:00:00",
                    "2021-06-29T00:00:00",
                    "2021-06-30T00:00:00",
                    "2021-07-01T00:00:00",
                    "2021-07-02T00:00:00",
                    "2021-07-06T00:00:00",
                    "2021-07-07T00:00:00",
                    "2021-07-08T00:00:00",
                    "2021-07-09T00:00:00",
                    "2021-07-12T00:00:00",
                    "2021-07-13T00:00:00",
                    "2021-07-14T00:00:00",
                    "2021-07-15T00:00:00",
                    "2021-07-16T00:00:00",
                    "2021-07-19T00:00:00",
                    "2021-07-20T00:00:00",
                    "2021-07-21T00:00:00",
                    "2021-07-22T00:00:00",
                    "2021-07-23T00:00:00",
                    "2021-07-26T00:00:00",
                    "2021-07-27T00:00:00",
                    "2021-07-28T00:00:00",
                    "2021-07-29T00:00:00",
                    "2021-07-30T00:00:00",
                    "2021-08-02T00:00:00",
                    "2021-08-03T00:00:00",
                    "2021-08-04T00:00:00",
                    "2021-08-05T00:00:00",
                    "2021-08-06T00:00:00",
                    "2021-08-09T00:00:00",
                    "2021-08-10T00:00:00",
                    "2021-08-11T00:00:00",
                    "2021-08-12T00:00:00",
                    "2021-08-13T00:00:00",
                    "2021-08-16T00:00:00",
                    "2021-08-17T00:00:00",
                    "2021-08-18T00:00:00",
                    "2021-08-19T00:00:00",
                    "2021-08-20T00:00:00",
                    "2021-08-23T00:00:00",
                    "2021-08-24T00:00:00",
                    "2021-08-25T00:00:00",
                    "2021-08-26T00:00:00",
                    "2021-08-27T00:00:00",
                    "2021-08-30T00:00:00",
                    "2021-08-31T00:00:00",
                    "2021-09-01T00:00:00",
                    "2021-09-02T00:00:00",
                    "2021-09-03T00:00:00",
                    "2021-09-07T00:00:00",
                    "2021-09-08T00:00:00",
                    "2021-09-09T00:00:00",
                    "2021-09-10T00:00:00",
                    "2021-09-13T00:00:00",
                    "2021-09-14T00:00:00",
                    "2021-09-15T00:00:00",
                    "2021-09-16T00:00:00",
                    "2021-09-17T00:00:00",
                    "2021-09-20T00:00:00",
                    "2021-09-21T00:00:00",
                    "2021-09-22T00:00:00",
                    "2021-09-23T00:00:00",
                    "2021-09-24T00:00:00",
                    "2021-09-27T00:00:00",
                    "2021-09-28T00:00:00",
                    "2021-09-29T00:00:00",
                    "2021-09-30T00:00:00",
                    "2021-10-01T00:00:00",
                    "2021-10-04T00:00:00",
                    "2021-10-05T00:00:00",
                    "2021-10-06T00:00:00",
                    "2021-10-07T00:00:00",
                    "2021-10-08T00:00:00",
                    "2021-10-11T00:00:00",
                    "2021-10-12T00:00:00",
                    "2021-10-13T00:00:00",
                    "2021-10-14T00:00:00",
                    "2021-10-15T00:00:00",
                    "2021-10-18T00:00:00",
                    "2021-10-19T00:00:00",
                    "2021-10-20T00:00:00",
                    "2021-10-21T00:00:00",
                    "2021-10-22T00:00:00",
                    "2021-10-25T00:00:00",
                    "2021-10-26T00:00:00",
                    "2021-10-27T00:00:00",
                    "2021-10-28T00:00:00",
                    "2021-10-29T00:00:00",
                    "2021-11-01T00:00:00",
                    "2021-11-02T00:00:00",
                    "2021-11-03T00:00:00",
                    "2021-11-04T00:00:00",
                    "2021-11-05T00:00:00",
                    "2021-11-08T00:00:00",
                    "2021-11-09T00:00:00",
                    "2021-11-10T00:00:00",
                    "2021-11-11T00:00:00",
                    "2021-11-12T00:00:00",
                    "2021-11-15T00:00:00",
                    "2021-11-16T00:00:00",
                    "2021-11-17T00:00:00",
                    "2021-11-18T00:00:00",
                    "2021-11-19T00:00:00",
                    "2021-11-22T00:00:00",
                    "2021-11-23T00:00:00",
                    "2021-11-24T00:00:00",
                    "2021-11-26T00:00:00",
                    "2021-11-29T00:00:00",
                    "2021-11-30T00:00:00",
                    "2021-12-01T00:00:00",
                    "2021-12-02T00:00:00",
                    "2021-12-03T00:00:00",
                    "2021-12-06T00:00:00",
                    "2021-12-07T00:00:00",
                    "2021-12-08T00:00:00",
                    "2021-12-09T00:00:00",
                    "2021-12-10T00:00:00",
                    "2021-12-13T00:00:00",
                    "2021-12-14T00:00:00",
                    "2021-12-15T00:00:00",
                    "2021-12-16T00:00:00",
                    "2021-12-17T00:00:00",
                    "2021-12-20T00:00:00",
                    "2021-12-21T00:00:00",
                    "2021-12-22T00:00:00",
                    "2021-12-23T00:00:00",
                    "2021-12-27T00:00:00",
                    "2021-12-28T00:00:00",
                    "2021-12-29T00:00:00",
                    "2021-12-30T00:00:00",
                    "2021-12-31T00:00:00"
                  ],
                  "y": [
                    139.11192830403644,
                    141.13598124186197,
                    135.72774759928384,
                    139.96529642740884,
                    140.45409647623697,
                    139.45359802246094,
                    139.05016835530597,
                    140.64205423990884,
                    138.25067392985025,
                    136.15061950683594,
                    137.2030512491862,
                    142.08821614583331,
                    146.06912231445312,
                    146.02822875976562,
                    147.12172444661456,
                    147.01081339518228,
                    143.37021382649738,
                    142.2694549560547,
                    139.8617706298828,
                    143.67614237467447,
                    145.63665771484375,
                    144.08092244466144,
                    145.96363321940103,
                    145.93309020996094,
                    148.31495157877603,
                    147.13703409830728,
                    148.29288228352863,
                    149.41812642415363,
                    148.79369099934894,
                    149.15980021158853,
                    147.639409383138,
                    147.33915456136066,
                    146.41041819254556,
                    142.09002176920572,
                    141.56251780192056,
                    141.99972279866535,
                    134.90057118733722,
                    136.9389216105143,
                    140.39104461669922,
                    137.20661417643228,
                    132.71017456054688,
                    130.174809773763,
                    131.2829615275065,
                    125.9269307454427,
                    132.42430114746094,
                    131.80035400390625,
                    135.1298624674479,
                    133.96565755208331,
                    135.92186228434244,
                    136.9425277709961,
                    137.57432810465494,
                    132.33249409993488,
                    133.34822845458984,
                    136.19489542643228,
                    135.9756342569987,
                    132.908327738444,
                    132.0336939493815,
                    133.34464263916016,
                    134.1613337198893,
                    133.0773747762044,
                    136.04727172851562,
                    138.9834976196289,
                    141.61503092447916,
                    141.24902089436847,
                    143.66778310139972,
                    145.38380940755206,
                    147.740971883138,
                    149.97499084472656,
                    152.93027242024738,
                    149.6872100830078,
                    154.12767028808594,
                    153.6075693766276,
                    151.54112243652344,
                    149.71782938639322,
                    150.93089294433594,
                    147.83855692545572,
                    150.53067016601562,
                    152.5050303141276,
                    152.21705118815103,
                    152.2865041097005,
                    152.62689717610675,
                    150.85060628255206,
                    149.2812957763672,
                    144.8838882446289,
                    144.63388315836588,
                    145.9836222330729,
                    146.9266866048177,
                    142.31907908121744,
                    142.7019297281901,
                    138.6482976277669,
                    139.21978759765625,
                    142.98070526123047,
                    143.12662251790363,
                    141.5266393025716,
                    141.63240814208984,
                    144.5770263671875,
                    144.47769673665363,
                    147.7884979248047,
                    148.07606506347656,
                    148.33529917399088,
                    146.52992248535156,
                    148.70929209391275,
                    148.5937271118164,
                    150.814946492513,
                    150.1695810953776,
                    153.28643035888672,
                    153.28846232096353,
                    154.12716929117838,
                    154.22400919596353,
                    155.25264485677081,
                    156.94503275553384,
                    159.23478190104166,
                    158.1802266438802,
                    158.95550537109375,
                    163.54617818196613,
                    163.00858561197916,
                    162.36038716634113,
                    165.29952494303384,
                    165.74789428710938,
                    165.23360697428384,
                    163.76067606608072,
                    168.19127400716144,
                    168.91035970052081,
                    168.9036661783854,
                    169.58285522460938,
                    172.6820831298828,
                    176.80881245930988,
                    176.90672302246094,
                    175.48947143554688,
                    176.39362080891925,
                    177.71825663248697,
                    176.5328369140625,
                    176.39879862467447,
                    172.42471313476562,
                    168.0987803141276,
                    168.46248881022134,
                    169.51339721679688,
                    172.12265523274738,
                    174.07550048828125,
                    174.84418741861978,
                    174.82662963867188,
                    172.58713277180988,
                    173.04611714680988,
                    173.2854512532552,
                    168.27648417154947,
                    169.06485493977863,
                    170.4651133219401,
                    171.6658223470052,
                    173.26443481445312,
                    171.61476643880206,
                    171.31087239583331,
                    169.60178120930988,
                    168.4225107828776,
                    170.29499308268228,
                    171.1470184326172,
                    171.10343424479166,
                    168.2096405029297,
                    164.87923685709634,
                    167.28903706868488,
                    171.37038167317706,
                    176.76954142252603,
                    176.85599772135416,
                    177.72901916503906,
                    177.2569630940755,
                    180.0564727783203,
                    182.91599019368488,
                    182.3166300455729,
                    182.8636271158854,
                    182.82435099283853,
                    184.77485148111978,
                    185.47960408528644,
                    184.1547648111979,
                    182.58432515462238,
                    181.6576385498047,
                    180.56381225585938,
                    180.27324930826822,
                    181.3320566813151,
                    181.13106791178384,
                    178.66572062174478,
                    173.23973083496094,
                    173.64198303222656,
                    177.35857645670572,
                    180.08087666829425,
                    178.93448893229166,
                    176.6945088704427,
                    170.86001586914062,
                    170.30968221028644,
                    170.26633199055988,
                    170.70164998372394,
                    164.62694803873697,
                    168.18863932291666,
                    169.99378967285156,
                    172.340092976888,
                    171.16946919759113,
                    169.9818623860677,
                    169.4913380940755,
                    170.80172729492188,
                    174.6852569580078,
                    177.24608866373697,
                    179.63570658365884,
                    180.5461222330729,
                    179.60344950358072,
                    181.9687296549479,
                    180.16425577799478,
                    181.35926310221353,
                    187.6736297607422,
                    186.90728251139322,
                    190.6637217203776,
                    190.60001627604166,
                    190.28361002604166,
                    192.45357259114581,
                    194.780522664388,
                    206.81676737467447,
                    207.53145345052081,
                    210.25588989257812,
                    211.3426971435547,
                    204.83324686686197,
                    207.75628662109375,
                    209.33246866861978,
                    208.4630635579427,
                    209.30209859212238,
                    207.1257578531901,
                    219.05486551920572,
                    223.973393758138,
                    218.97008768717447,
                    218.524175008138,
                    221.79371643066406,
                    214.94139099121094,
                    223.2559356689453,
                    221.68539428710938,
                    216.3372344970703,
                    218.1985371907552,
                    212.0028533935547,
                    211.59240214029947,
                    223.07801818847656,
                    222.36061604817706,
                    217.07972208658853,
                    217.06629435221353,
                    208.18145243326822,
                    208.1439717610677,
                    218.25335184733072,
                    207.55467732747394,
                    205.6170908610026,
                    203.90655008951822,
                    210.60079956054688,
                    212.76265462239581,
                    213.782958984375,
                    218.99537658691406,
                    216.90931701660156,
                    215.3837890625,
                    213.42796834309894,
                    211.9953155517578
                  ]
                },
                {
                  "name": "ARIMA Forecast",
                  "type": "scatter",
                  "x": [
                    "2021-12-31T00:00:00",
                    "2022-01-01T00:00:00",
                    "2022-01-02T00:00:00",
                    "2022-01-03T00:00:00",
                    "2022-01-04T00:00:00",
                    "2022-01-05T00:00:00",
                    "2022-01-06T00:00:00",
                    "2022-01-07T00:00:00",
                    "2022-01-08T00:00:00",
                    "2022-01-09T00:00:00",
                    "2022-01-10T00:00:00",
                    "2022-01-11T00:00:00",
                    "2022-01-12T00:00:00",
                    "2022-01-13T00:00:00",
                    "2022-01-14T00:00:00",
                    "2022-01-15T00:00:00",
                    "2022-01-16T00:00:00",
                    "2022-01-17T00:00:00",
                    "2022-01-18T00:00:00",
                    "2022-01-19T00:00:00",
                    "2022-01-20T00:00:00",
                    "2022-01-21T00:00:00",
                    "2022-01-22T00:00:00",
                    "2022-01-23T00:00:00",
                    "2022-01-24T00:00:00",
                    "2022-01-25T00:00:00",
                    "2022-01-26T00:00:00",
                    "2022-01-27T00:00:00",
                    "2022-01-28T00:00:00",
                    "2022-01-29T00:00:00"
                  ],
                  "y": [
                    211.95929562976713,
                    212.4730558307793,
                    210.81866068399614,
                    212.53198729866926,
                    215.07563424586377,
                    212.15763108093682,
                    216.1681018632534,
                    217.20030219424223,
                    216.62182220700345,
                    217.27160997766833,
                    216.2976950487798,
                    214.77231409849782,
                    215.90083351974687,
                    215.41856639045068,
                    216.78907837753383,
                    215.37833807622906,
                    216.60343045452805,
                    218.40602301139904,
                    217.13372600673677,
                    217.81231830409206,
                    217.8056133038223,
                    214.41960049464893,
                    216.5279365758708,
                    216.51297203800218,
                    215.04173755757364,
                    216.55347673450302,
                    216.18654622558924,
                    216.37045195098582,
                    217.95952004621688,
                    217.1523277263977
                  ]
                }
              ],
              "layout": {
                "template": {
                  "data": {
                    "bar": [
                      {
                        "error_x": {
                          "color": "#2a3f5f"
                        },
                        "error_y": {
                          "color": "#2a3f5f"
                        },
                        "marker": {
                          "line": {
                            "color": "#E5ECF6",
                            "width": 0.5
                          },
                          "pattern": {
                            "fillmode": "overlay",
                            "size": 10,
                            "solidity": 0.2
                          }
                        },
                        "type": "bar"
                      }
                    ],
                    "barpolar": [
                      {
                        "marker": {
                          "line": {
                            "color": "#E5ECF6",
                            "width": 0.5
                          },
                          "pattern": {
                            "fillmode": "overlay",
                            "size": 10,
                            "solidity": 0.2
                          }
                        },
                        "type": "barpolar"
                      }
                    ],
                    "carpet": [
                      {
                        "aaxis": {
                          "endlinecolor": "#2a3f5f",
                          "gridcolor": "white",
                          "linecolor": "white",
                          "minorgridcolor": "white",
                          "startlinecolor": "#2a3f5f"
                        },
                        "baxis": {
                          "endlinecolor": "#2a3f5f",
                          "gridcolor": "white",
                          "linecolor": "white",
                          "minorgridcolor": "white",
                          "startlinecolor": "#2a3f5f"
                        },
                        "type": "carpet"
                      }
                    ],
                    "choropleth": [
                      {
                        "colorbar": {
                          "outlinewidth": 0,
                          "ticks": ""
                        },
                        "type": "choropleth"
                      }
                    ],
                    "contour": [
                      {
                        "colorbar": {
                          "outlinewidth": 0,
                          "ticks": ""
                        },
                        "colorscale": [
                          [
                            0,
                            "#0d0887"
                          ],
                          [
                            0.1111111111111111,
                            "#46039f"
                          ],
                          [
                            0.2222222222222222,
                            "#7201a8"
                          ],
                          [
                            0.3333333333333333,
                            "#9c179e"
                          ],
                          [
                            0.4444444444444444,
                            "#bd3786"
                          ],
                          [
                            0.5555555555555556,
                            "#d8576b"
                          ],
                          [
                            0.6666666666666666,
                            "#ed7953"
                          ],
                          [
                            0.7777777777777778,
                            "#fb9f3a"
                          ],
                          [
                            0.8888888888888888,
                            "#fdca26"
                          ],
                          [
                            1,
                            "#f0f921"
                          ]
                        ],
                        "type": "contour"
                      }
                    ],
                    "contourcarpet": [
                      {
                        "colorbar": {
                          "outlinewidth": 0,
                          "ticks": ""
                        },
                        "type": "contourcarpet"
                      }
                    ],
                    "heatmap": [
                      {
                        "colorbar": {
                          "outlinewidth": 0,
                          "ticks": ""
                        },
                        "colorscale": [
                          [
                            0,
                            "#0d0887"
                          ],
                          [
                            0.1111111111111111,
                            "#46039f"
                          ],
                          [
                            0.2222222222222222,
                            "#7201a8"
                          ],
                          [
                            0.3333333333333333,
                            "#9c179e"
                          ],
                          [
                            0.4444444444444444,
                            "#bd3786"
                          ],
                          [
                            0.5555555555555556,
                            "#d8576b"
                          ],
                          [
                            0.6666666666666666,
                            "#ed7953"
                          ],
                          [
                            0.7777777777777778,
                            "#fb9f3a"
                          ],
                          [
                            0.8888888888888888,
                            "#fdca26"
                          ],
                          [
                            1,
                            "#f0f921"
                          ]
                        ],
                        "type": "heatmap"
                      }
                    ],
                    "heatmapgl": [
                      {
                        "colorbar": {
                          "outlinewidth": 0,
                          "ticks": ""
                        },
                        "colorscale": [
                          [
                            0,
                            "#0d0887"
                          ],
                          [
                            0.1111111111111111,
                            "#46039f"
                          ],
                          [
                            0.2222222222222222,
                            "#7201a8"
                          ],
                          [
                            0.3333333333333333,
                            "#9c179e"
                          ],
                          [
                            0.4444444444444444,
                            "#bd3786"
                          ],
                          [
                            0.5555555555555556,
                            "#d8576b"
                          ],
                          [
                            0.6666666666666666,
                            "#ed7953"
                          ],
                          [
                            0.7777777777777778,
                            "#fb9f3a"
                          ],
                          [
                            0.8888888888888888,
                            "#fdca26"
                          ],
                          [
                            1,
                            "#f0f921"
                          ]
                        ],
                        "type": "heatmapgl"
                      }
                    ],
                    "histogram": [
                      {
                        "marker": {
                          "pattern": {
                            "fillmode": "overlay",
                            "size": 10,
                            "solidity": 0.2
                          }
                        },
                        "type": "histogram"
                      }
                    ],
                    "histogram2d": [
                      {
                        "colorbar": {
                          "outlinewidth": 0,
                          "ticks": ""
                        },
                        "colorscale": [
                          [
                            0,
                            "#0d0887"
                          ],
                          [
                            0.1111111111111111,
                            "#46039f"
                          ],
                          [
                            0.2222222222222222,
                            "#7201a8"
                          ],
                          [
                            0.3333333333333333,
                            "#9c179e"
                          ],
                          [
                            0.4444444444444444,
                            "#bd3786"
                          ],
                          [
                            0.5555555555555556,
                            "#d8576b"
                          ],
                          [
                            0.6666666666666666,
                            "#ed7953"
                          ],
                          [
                            0.7777777777777778,
                            "#fb9f3a"
                          ],
                          [
                            0.8888888888888888,
                            "#fdca26"
                          ],
                          [
                            1,
                            "#f0f921"
                          ]
                        ],
                        "type": "histogram2d"
                      }
                    ],
                    "histogram2dcontour": [
                      {
                        "colorbar": {
                          "outlinewidth": 0,
                          "ticks": ""
                        },
                        "colorscale": [
                          [
                            0,
                            "#0d0887"
                          ],
                          [
                            0.1111111111111111,
                            "#46039f"
                          ],
                          [
                            0.2222222222222222,
                            "#7201a8"
                          ],
                          [
                            0.3333333333333333,
                            "#9c179e"
                          ],
                          [
                            0.4444444444444444,
                            "#bd3786"
                          ],
                          [
                            0.5555555555555556,
                            "#d8576b"
                          ],
                          [
                            0.6666666666666666,
                            "#ed7953"
                          ],
                          [
                            0.7777777777777778,
                            "#fb9f3a"
                          ],
                          [
                            0.8888888888888888,
                            "#fdca26"
                          ],
                          [
                            1,
                            "#f0f921"
                          ]
                        ],
                        "type": "histogram2dcontour"
                      }
                    ],
                    "mesh3d": [
                      {
                        "colorbar": {
                          "outlinewidth": 0,
                          "ticks": ""
                        },
                        "type": "mesh3d"
                      }
                    ],
                    "parcoords": [
                      {
                        "line": {
                          "colorbar": {
                            "outlinewidth": 0,
                            "ticks": ""
                          }
                        },
                        "type": "parcoords"
                      }
                    ],
                    "pie": [
                      {
                        "automargin": true,
                        "type": "pie"
                      }
                    ],
                    "scatter": [
                      {
                        "fillpattern": {
                          "fillmode": "overlay",
                          "size": 10,
                          "solidity": 0.2
                        },
                        "type": "scatter"
                      }
                    ],
                    "scatter3d": [
                      {
                        "line": {
                          "colorbar": {
                            "outlinewidth": 0,
                            "ticks": ""
                          }
                        },
                        "marker": {
                          "colorbar": {
                            "outlinewidth": 0,
                            "ticks": ""
                          }
                        },
                        "type": "scatter3d"
                      }
                    ],
                    "scattercarpet": [
                      {
                        "marker": {
                          "colorbar": {
                            "outlinewidth": 0,
                            "ticks": ""
                          }
                        },
                        "type": "scattercarpet"
                      }
                    ],
                    "scattergeo": [
                      {
                        "marker": {
                          "colorbar": {
                            "outlinewidth": 0,
                            "ticks": ""
                          }
                        },
                        "type": "scattergeo"
                      }
                    ],
                    "scattergl": [
                      {
                        "marker": {
                          "colorbar": {
                            "outlinewidth": 0,
                            "ticks": ""
                          }
                        },
                        "type": "scattergl"
                      }
                    ],
                    "scattermapbox": [
                      {
                        "marker": {
                          "colorbar": {
                            "outlinewidth": 0,
                            "ticks": ""
                          }
                        },
                        "type": "scattermapbox"
                      }
                    ],
                    "scatterpolar": [
                      {
                        "marker": {
                          "colorbar": {
                            "outlinewidth": 0,
                            "ticks": ""
                          }
                        },
                        "type": "scatterpolar"
                      }
                    ],
                    "scatterpolargl": [
                      {
                        "marker": {
                          "colorbar": {
                            "outlinewidth": 0,
                            "ticks": ""
                          }
                        },
                        "type": "scatterpolargl"
                      }
                    ],
                    "scatterternary": [
                      {
                        "marker": {
                          "colorbar": {
                            "outlinewidth": 0,
                            "ticks": ""
                          }
                        },
                        "type": "scatterternary"
                      }
                    ],
                    "surface": [
                      {
                        "colorbar": {
                          "outlinewidth": 0,
                          "ticks": ""
                        },
                        "colorscale": [
                          [
                            0,
                            "#0d0887"
                          ],
                          [
                            0.1111111111111111,
                            "#46039f"
                          ],
                          [
                            0.2222222222222222,
                            "#7201a8"
                          ],
                          [
                            0.3333333333333333,
                            "#9c179e"
                          ],
                          [
                            0.4444444444444444,
                            "#bd3786"
                          ],
                          [
                            0.5555555555555556,
                            "#d8576b"
                          ],
                          [
                            0.6666666666666666,
                            "#ed7953"
                          ],
                          [
                            0.7777777777777778,
                            "#fb9f3a"
                          ],
                          [
                            0.8888888888888888,
                            "#fdca26"
                          ],
                          [
                            1,
                            "#f0f921"
                          ]
                        ],
                        "type": "surface"
                      }
                    ],
                    "table": [
                      {
                        "cells": {
                          "fill": {
                            "color": "#EBF0F8"
                          },
                          "line": {
                            "color": "white"
                          }
                        },
                        "header": {
                          "fill": {
                            "color": "#C8D4E3"
                          },
                          "line": {
                            "color": "white"
                          }
                        },
                        "type": "table"
                      }
                    ]
                  },
                  "layout": {
                    "annotationdefaults": {
                      "arrowcolor": "#2a3f5f",
                      "arrowhead": 0,
                      "arrowwidth": 1
                    },
                    "autotypenumbers": "strict",
                    "coloraxis": {
                      "colorbar": {
                        "outlinewidth": 0,
                        "ticks": ""
                      }
                    },
                    "colorscale": {
                      "diverging": [
                        [
                          0,
                          "#8e0152"
                        ],
                        [
                          0.1,
                          "#c51b7d"
                        ],
                        [
                          0.2,
                          "#de77ae"
                        ],
                        [
                          0.3,
                          "#f1b6da"
                        ],
                        [
                          0.4,
                          "#fde0ef"
                        ],
                        [
                          0.5,
                          "#f7f7f7"
                        ],
                        [
                          0.6,
                          "#e6f5d0"
                        ],
                        [
                          0.7,
                          "#b8e186"
                        ],
                        [
                          0.8,
                          "#7fbc41"
                        ],
                        [
                          0.9,
                          "#4d9221"
                        ],
                        [
                          1,
                          "#276419"
                        ]
                      ],
                      "sequential": [
                        [
                          0,
                          "#0d0887"
                        ],
                        [
                          0.1111111111111111,
                          "#46039f"
                        ],
                        [
                          0.2222222222222222,
                          "#7201a8"
                        ],
                        [
                          0.3333333333333333,
                          "#9c179e"
                        ],
                        [
                          0.4444444444444444,
                          "#bd3786"
                        ],
                        [
                          0.5555555555555556,
                          "#d8576b"
                        ],
                        [
                          0.6666666666666666,
                          "#ed7953"
                        ],
                        [
                          0.7777777777777778,
                          "#fb9f3a"
                        ],
                        [
                          0.8888888888888888,
                          "#fdca26"
                        ],
                        [
                          1,
                          "#f0f921"
                        ]
                      ],
                      "sequentialminus": [
                        [
                          0,
                          "#0d0887"
                        ],
                        [
                          0.1111111111111111,
                          "#46039f"
                        ],
                        [
                          0.2222222222222222,
                          "#7201a8"
                        ],
                        [
                          0.3333333333333333,
                          "#9c179e"
                        ],
                        [
                          0.4444444444444444,
                          "#bd3786"
                        ],
                        [
                          0.5555555555555556,
                          "#d8576b"
                        ],
                        [
                          0.6666666666666666,
                          "#ed7953"
                        ],
                        [
                          0.7777777777777778,
                          "#fb9f3a"
                        ],
                        [
                          0.8888888888888888,
                          "#fdca26"
                        ],
                        [
                          1,
                          "#f0f921"
                        ]
                      ]
                    },
                    "colorway": [
                      "#636efa",
                      "#EF553B",
                      "#00cc96",
                      "#ab63fa",
                      "#FFA15A",
                      "#19d3f3",
                      "#FF6692",
                      "#B6E880",
                      "#FF97FF",
                      "#FECB52"
                    ],
                    "font": {
                      "color": "#2a3f5f"
                    },
                    "geo": {
                      "bgcolor": "white",
                      "lakecolor": "white",
                      "landcolor": "#E5ECF6",
                      "showlakes": true,
                      "showland": true,
                      "subunitcolor": "white"
                    },
                    "hoverlabel": {
                      "align": "left"
                    },
                    "hovermode": "closest",
                    "mapbox": {
                      "style": "light"
                    },
                    "paper_bgcolor": "white",
                    "plot_bgcolor": "#E5ECF6",
                    "polar": {
                      "angularaxis": {
                        "gridcolor": "white",
                        "linecolor": "white",
                        "ticks": ""
                      },
                      "bgcolor": "#E5ECF6",
                      "radialaxis": {
                        "gridcolor": "white",
                        "linecolor": "white",
                        "ticks": ""
                      }
                    },
                    "scene": {
                      "xaxis": {
                        "backgroundcolor": "#E5ECF6",
                        "gridcolor": "white",
                        "gridwidth": 2,
                        "linecolor": "white",
                        "showbackground": true,
                        "ticks": "",
                        "zerolinecolor": "white"
                      },
                      "yaxis": {
                        "backgroundcolor": "#E5ECF6",
                        "gridcolor": "white",
                        "gridwidth": 2,
                        "linecolor": "white",
                        "showbackground": true,
                        "ticks": "",
                        "zerolinecolor": "white"
                      },
                      "zaxis": {
                        "backgroundcolor": "#E5ECF6",
                        "gridcolor": "white",
                        "gridwidth": 2,
                        "linecolor": "white",
                        "showbackground": true,
                        "ticks": "",
                        "zerolinecolor": "white"
                      }
                    },
                    "shapedefaults": {
                      "line": {
                        "color": "#2a3f5f"
                      }
                    },
                    "ternary": {
                      "aaxis": {
                        "gridcolor": "white",
                        "linecolor": "white",
                        "ticks": ""
                      },
                      "baxis": {
                        "gridcolor": "white",
                        "linecolor": "white",
                        "ticks": ""
                      },
                      "bgcolor": "#E5ECF6",
                      "caxis": {
                        "gridcolor": "white",
                        "linecolor": "white",
                        "ticks": ""
                      }
                    },
                    "title": {
                      "x": 0.05
                    },
                    "xaxis": {
                      "automargin": true,
                      "gridcolor": "white",
                      "linecolor": "white",
                      "ticks": "",
                      "title": {
                        "standoff": 15
                      },
                      "zerolinecolor": "white",
                      "zerolinewidth": 2
                    },
                    "yaxis": {
                      "automargin": true,
                      "gridcolor": "white",
                      "linecolor": "white",
                      "ticks": "",
                      "title": {
                        "standoff": 15
                      },
                      "zerolinecolor": "white",
                      "zerolinewidth": 2
                    }
                  }
                },
                "title": {
                  "text": "ARIMA forecast"
                },
                "xaxis": {
                  "title": {
                    "text": "Date"
                  }
                },
                "yaxis": {
                  "title": {
                    "text": "Portfolio Values"
                  }
                }
              }
            }
          },
          "metadata": {},
          "output_type": "display_data"
        },
        {
          "name": "stdout",
          "output_type": "stream",
          "text": [
            "You would make profit of $37.07 (2.43%) over the forecasted period.\n",
            "\n",
            "    mape_arima  mae_arima   mse_arima  rmse_arima\n",
            "0    0.131369  27.992754  936.865499   30.608259\n",
            "\n",
            "What would you like to do: \n",
            "    A - Show me the Assset Comparison\n",
            "    B - Show me Portfolio Performance\n",
            "    C - Show me the Forecast on Portfolio Return\n",
            "    Q - Quit the program\n",
            "    \n",
            "\u001b[93m\u001b[1m\n",
            "> Thank you for using our Portfolio Analysis Tool :)\u001b[0m\n"
          ]
        }
      ],
      "source": [
        "from pandas_datareader import data as pdr\n",
        "\n",
        "import yfinance as yf\n",
        "yf.pdr_override()\n",
        "\n",
        "#\n",
        "\n",
        "# creating list for stock indexes to select from\n",
        "stock_indices = ['^GSPC','^DJI', '^IXIC','^NYA','^RUT']\n",
        "\n",
        "\n",
        "#creating function to check the invalid ticker which does not exist in yahoo finance\n",
        "def is_valid_ticker(ticker_symbol):\n",
        "    ticker = yf.Ticker(ticker_symbol)\n",
        "    return len(ticker.history(period='1d')) > 0\n",
        "\n",
        "#Using while-True to prevent wrong user inputs:\n",
        "\n",
        "while True:\n",
        "    try:\n",
        "        # Selecting list to save the selected stocks\n",
        "        selected_stocks = []\n",
        "        while not selected_stocks:\n",
        "            selected_stocks = input(\"Please enter the ticker symbols (comma-separated) for the stocks you want to include in your portfolio:\\n\").split(',')\n",
        "            selected_stocks = [s.strip() for s in selected_stocks]\n",
        "\n",
        "        # Calculate the number of assets selected\n",
        "        num_assets = len(selected_stocks)\n",
        "\n",
        "        # Display the number of assets selected\n",
        "        print(f\"{num_assets} asset(s) selected\")\n",
        "\n",
        "        # Check if the selected tickers are valid\n",
        "        invalid_tickers = []\n",
        "        for ticker in selected_stocks:\n",
        "            if not is_valid_ticker(ticker):\n",
        "                invalid_tickers.append(ticker)\n",
        "\n",
        "        # Print the invalid tickers\n",
        "        if invalid_tickers:\n",
        "            print(\"Invalid tickers:\")\n",
        "            for ticker in invalid_tickers:\n",
        "                print(ticker)\n",
        "\n",
        "            # Prompt the user to enter tickers again\n",
        "            print(\"Please enter the tickers again:\")\n",
        "            continue\n",
        "\n",
        "        # Select the start and end date\n",
        "        sdate = input('Please enter the start date (YYYY-MM-DD) for your portfolio:\\n')\n",
        "        edate = input('Please enter the end date (YYYY-MM-DD) for your portfolio:\\n')\n",
        "\n",
        "        # Ask the user to select an index from the list\n",
        "        print(\"Select a stock index:\")\n",
        "        for i, index in enumerate(stock_indices):\n",
        "            print(f\"{i+1}: {index}\")\n",
        "        selection = int(input(\"Enter your selection: \"))\n",
        "\n",
        "        # Now the user can enter their preferred date range (sdate = start date; edate = end date)\n",
        "        stock_data = yf.download(selected_stocks, start=sdate, end=edate)['Adj Close'].dropna()\n",
        "        stock_data = pd.DataFrame(stock_data)\n",
        "        index_data = yf.download(stock_indices[selection-1], start=sdate, end=edate)['Adj Close'].dropna()\n",
        "\n",
        "        break  # Exit the loop once the assets are selected\n",
        "\n",
        "    except (KeyError, OSError):\n",
        "        print(color.BOLD + color.UNDERLINE + f'> Invalid ticker(s) entered. Please try again...' + color.END)\n",
        "\n",
        "        \n",
        "        \n",
        "#declaring some variables and saving the results which will be called in multiple options        \n",
        "# Ask the user for the amount of money to be invested\n",
        "amount = float(input(\"Enter the amount of money to be invested: \"))\n",
        "#creating variable for equal weights\n",
        "equal_weight = 1 / len(selected_stocks)\n",
        "# Ask the user whether to assign weights manually or use equal weights\n",
        "choice = input(\"Do you want to assign weights manually? (Yes/No): \")\n",
        "if choice.lower() == \"yes\":\n",
        "    # Ask the user to enter the weights for each stock\n",
        "    while True:\n",
        "        weights = []\n",
        "        for stock in selected_stocks:\n",
        "            weight = float(input(f\"Enter weight for {stock} in decimal (e.g 0.2, 0.3): \"))\n",
        "            weights.append(weight)\n",
        "\n",
        "        # Normalize the weights to add up to 1\n",
        "        total_weight = sum(weights)\n",
        "        if abs(total_weight - 1) < 1e-6:\n",
        "            break\n",
        "        else:\n",
        "            print(\"Error: The sum of weights must be equal to 1. Please try again.\")\n",
        "else:\n",
        "    # Assign equal weights to all stocks\n",
        "    weights = [equal_weight] * len(selected_stocks)\n",
        "# Calculate the amount to be invested in each stock\n",
        "invested_money = [amount * weight for weight in weights]\n",
        "\n",
        "# Calculate daily portfolio values\n",
        "daily_portfolio_values = (stock_data * weights).sum(axis=1)\n",
        "\n",
        "# Calculate total invested money\n",
        "total_invested_money = amount * sum(weights)\n",
        "\n",
        "# Filter the daily portfolio values by the selected date range\n",
        "portfolio_values = daily_portfolio_values.loc[sdate:edate]\n",
        "\n",
        "# Calculate the total return of the portfolio\n",
        "total_return = (portfolio_values.iloc[-1] - portfolio_values.iloc[0]) / portfolio_values.iloc[0]\n",
        "\n",
        "# Calculate the total value of the portfolio if $X was invested\n",
        "portfolio_value = (total_return + 1) * amount\n",
        "\n",
        "\n",
        "#show features of the tool        \n",
        "print(color.BOLD + color.UNDERLINE + '\\n> Have a look at the different options on analyzing the stock data:' + color.END)\n",
        "choice = True\n",
        "while choice:\n",
        "    print(f'''\\nWhat would you like to do: \n",
        "    A - Show me the Assset Comparison\n",
        "    B - Show me Portfolio Performance\n",
        "    C - Show me the Forecast on Portfolio Return\n",
        "    Q - Quit the program\n",
        "    ''')\n",
        "    choice = (input('''\\nPlease enter your choice (e.g. for the first option type \"A\"): '''))\n",
        "    \n",
        "    \n",
        "\n",
        "    #Setting condition to explore the multiple features of the portfolio analysis tool\n",
        "    # OPTION 1: Show me the price chart of my chosen stock\n",
        "    \n",
        "    if choice == 'A' or choice == 'a':\n",
        "        # -----------Download the stock data--------------\n",
        "        stock_data = yf.download(selected_stocks, start=sdate, end=edate)['Adj Close'].dropna()\n",
        "        stock_data.head()\n",
        "\n",
        "        # Create traces for each stock\n",
        "        traces = []\n",
        "        for stock in stock_data.columns:\n",
        "            traces.append(go.Scatter(\n",
        "                x=stock_data.index,\n",
        "                y=stock_data[stock],\n",
        "                mode='lines',\n",
        "                name=stock\n",
        "            ))\n",
        "\n",
        "        # Create the layout for the plot\n",
        "        layout = go.Layout(\n",
        "            title=f'Stock Prices from {sdate} to {edate}',\n",
        "            xaxis=dict(title='Date'),\n",
        "            yaxis=dict(title='Adjusted Closing Price in USD'),\n",
        "            xaxis_tickfont_size=14,\n",
        "            yaxis_tickfont_size=14\n",
        "        )\n",
        "\n",
        "        # Create a line chart using Plotly\n",
        "        fig = go.Figure(data=traces, layout=layout)\n",
        "\n",
        "        # Display the plot\n",
        "        fig.show()\n",
        "\n",
        "        #--------------Let's calculate the return of the stocks----------------------    \n",
        "        returns = stock_data.pct_change()\n",
        "        returns.dropna(inplace=True)\n",
        "        #calculate percetange return for each stock\n",
        "        pct_returns = returns*100\n",
        "\n",
        "        #calculating reuten of the stock index\n",
        "        index_return = index_data.pct_change().dropna()\n",
        "        pct_index_return = index_return.dropna()*100\n",
        "\n",
        "        #show percentage return of each stock from the sdate to edate\n",
        "        pct_change = (stock_data.iloc[-1] / stock_data.iloc[0] - 1) * 100\n",
        "        print(f\"Asset Returns in Portfolio from {sdate} to {edate} is:\\n\\n\", \n",
        "        \"\\n\".join([f\"{stock}: {pct_change:.2f}%\" for stock, pct_change in pct_change.items()]))\n",
        "\n",
        "\n",
        "        #--------------------Show correlation between the assets in the portfolio-----------------\n",
        "        corr_mat = returns.corr().round(2)\n",
        "        print(corr_mat)\n",
        "\n",
        "        \n",
        "        #-----Calculate volatility for each stock-------\n",
        "        # Here we are using a rolling() function to determine the standard deviation of returns as the data is time series\n",
        "        # the optimal window for rolling std is 20-30 trading days\n",
        "        rolling_volatility = pct_returns.rolling(window=30).std() * (30**0.5)\n",
        "        rolling_volatility.dropna(inplace=True)\n",
        "\n",
        "        # Plot the volatility of each stock using Plotly\n",
        "        fig = go.Figure()\n",
        "        for stock in rolling_volatility.columns:\n",
        "            fig.add_trace(go.Scatter(x=rolling_volatility.index, y=rolling_volatility[stock], mode='lines', name=stock, hovertemplate='<br>Date: %{x}<br>'+ stock + ': %{y:.2f}%<extra></extra>'))\n",
        "\n",
        "        fig.update_layout(title=\"Volatility Comparison\",\n",
        "                              xaxis_title='Date',\n",
        "                              yaxis_title='% Volatility')\n",
        "\n",
        "        fig.show()\n",
        "\n",
        "\n",
        "        #---------------------------calculate the drawdown for each stock---------------------------\n",
        "        # Calculate the running maximum of the daily stock price\n",
        "        running_maximum = stock_data.rolling(30, min_periods=1).max()\n",
        "        # Calculate the drawdown as the percentage decline from the running maximum\n",
        "        daily_drawdown = stock_data/running_maximum - 1.0\n",
        "        # Calculate the rolling maximum drawdown \n",
        "        max_daily_drawdown = daily_drawdown.rolling(30, min_periods=1).min() * 100\n",
        "        # Drop any rows with missing values\n",
        "        max_daily_drawdown.dropna(inplace=True)\n",
        "\n",
        "        # Plot the daily_drawdown of each stock using Plotly\n",
        "        fig = go.Figure()\n",
        "        for stock in max_daily_drawdown.columns:\n",
        "            fig.add_trace(go.Scatter(x=max_daily_drawdown.index, y=max_daily_drawdown[stock], mode='lines', name=stock, hovertemplate='<br>Date: %{x}<br>'+ stock + ': %{y:.2f}%<extra></extra>'))\n",
        "\n",
        "        fig.update_layout(title=\"Drawdown Comparison\",\n",
        "                              xaxis_title='Date',\n",
        "                              yaxis_title='% Drawdown')\n",
        "\n",
        "        fig.show()\n",
        "\n",
        "\n",
        "\n",
        "        \n",
        "    # OPTION 2: Show me analysis on my portfolio's return\n",
        "    elif choice == 'B' or choice == 'b':\n",
        "\n",
        "        # Create a pandas dataframe with the weights and invested money for each stock\n",
        "        w = pd.DataFrame(list(zip(weights, invested_money)), index=selected_stocks, columns=[\"Weight\", \"Invested Money\"])\n",
        "\n",
        "        # Normalize the weights to add up to 1\n",
        "        total_weight = sum(weights)\n",
        "        weights = [weight / total_weight for weight in weights]\n",
        "\n",
        "        # Print the weights assigned to each stock\n",
        "        print(\"\\nAsset Allocation\\n\")\n",
        "        for i in range(len(selected_stocks)):\n",
        "          print(f\"{selected_stocks[i]}: {weights[i]:.2%} ({invested_money[i]:.2f} USD)\")\n",
        "\n",
        "        # Plotting Asset Allocation pie-plot\n",
        "        #rp.plot_pie(pd.DataFrame(w[\"Weight\"]), title='Asset Allocation')\n",
        "\n",
        "        # Calculate the total return of the portfolio\n",
        "        #total_return = (portfolio_values.iloc[-1] - portfolio_values.iloc[0]) / portfolio_values.iloc[0]\n",
        "\n",
        "        # Calculate the total value of the portfolio if $X was invested\n",
        "        #portfolio_value = (total_return + 1) * amount\n",
        "\n",
        "        # Calculate the percentage change in the portfolio values since start date\n",
        "        start_value = portfolio_values.iloc[0]\n",
        "        portfolio_pct_change = ((portfolio_values - start_value) / start_value) * 100\n",
        "\n",
        "        # Calculate the net profit or loss in dollars and percentage\n",
        "        net_profit_loss = portfolio_value - total_invested_money\n",
        "        net_profit_loss_pct = net_profit_loss / total_invested_money\n",
        "\n",
        "        # Display the results to the user\n",
        "        print(f\"\\nYour investment of ${amount:.2f} on {sdate} be worth ${portfolio_value:.2f} by {edate} in your Portfolio.\")\n",
        "        if net_profit_loss > 0:\n",
        "            print(f\"You would have made a profit of ${net_profit_loss:.2f} ({net_profit_loss_pct:.2%}).\")\n",
        "        else:\n",
        "            print(f\"You would have incurred a loss of ${abs(net_profit_loss):.2f} ({abs(net_profit_loss_pct):.2%}).\")\n",
        "\n",
        "        # Plot the portfolio returns using Plotly\n",
        "        import plotly.graph_objects as go\n",
        "        returns_trace = go.Scatter(\n",
        "            x=portfolio_values.index,\n",
        "            y=portfolio_values.values,\n",
        "            mode='lines',\n",
        "            name='Portfolio Returns',\n",
        "            hovertemplate='<br>Date: %{x}<br>Portfolio Value: $%{y:.2f} (%{text:.2f}%)',\n",
        "            text=portfolio_pct_change\n",
        "        )\n",
        "        # Create a layout for the plot\n",
        "        layout = go.Layout(\n",
        "            title='Portfolio Performance',\n",
        "            xaxis=dict(title='Date'),\n",
        "            yaxis=dict(title='Portfolio Value')\n",
        "        )\n",
        "\n",
        "        # Create the figure and add the trace and layout\n",
        "        fig = go.Figure(data=[returns_trace], layout=layout)\n",
        "\n",
        "        # Show the plot\n",
        "\n",
        "        fig.show()\n",
        "        \n",
        "        \n",
        "        #----------Calculate the daily returns for the portfolio and benchmark---------------\n",
        "        portfolio_returns = daily_portfolio_values.pct_change().dropna()\n",
        "        benchmark_returns = index_data.pct_change().dropna()\n",
        "\n",
        "        # Calculate the cumulative returns for the portfolio and benchmark\n",
        "        portfolio_cum_returns = (1 + portfolio_returns).cumprod()\n",
        "        benchmark_cum_returns = (1 + benchmark_returns).cumprod()\n",
        "\n",
        "        # Plot the portfolio and benchmark cumulative returns using Plotly\n",
        "        fig = go.Figure()\n",
        "        fig.add_trace(go.Scatter(x=portfolio_cum_returns.index, y=portfolio_cum_returns.values, name='Portfolio',\n",
        "                                 hovertemplate='Portfolio: $%{y:.2f} (%{text}%)<br>%{x}<extra></extra>',\n",
        "                                 text=[f'{p:.2f}' for p in portfolio_returns[-len(portfolio_cum_returns):] * 100]))\n",
        "        fig.add_trace(go.Scatter(x=benchmark_cum_returns.index, y=benchmark_cum_returns.values, name='Benchmark',\n",
        "                                 hovertemplate='Benchmark: $%{y:.2f} (%{text}%)<br>%{x}<extra></extra>',\n",
        "                                 text=[f'{b:.2f}' for b in benchmark_returns[-len(benchmark_cum_returns):] * 100]))\n",
        "        fig.update_layout(title='Portfolio Vs Benchmark Performance',\n",
        "                          xaxis_title='Date',\n",
        "                          yaxis_title='Cumulative Return')\n",
        "\n",
        "        fig.show()\n",
        "        \n",
        "        \n",
        "        #-----------------Calculate Sharpe Ratio----------------------------\n",
        "        #using FRED API key to read the T-bill rate\n",
        "        from fredapi import Fred\n",
        "        fred = Fred(api_key='78b14ec6ba46f484b94db43694468bb1')\n",
        "        #get three-month treasury bill rate for the selected date range\n",
        "        risk_free = fred.get_series('DGS3MO')[sdate:edate]\n",
        "        #rf-rate is in percentage thats why needs to be divided by 100\n",
        "        #also we are taking yearly trading days to get the daily rf for the selected date range span\n",
        "        daily_rf = (risk_free/100)/252\n",
        "        daily_stock_returns = stock_data.pct_change()\n",
        "        daily_stock_returns.dropna(inplace=True)\n",
        "        \n",
        "        #calculating excess return of the stocks\n",
        "        for i in selected_stocks:\n",
        "            i = i.upper()\n",
        "            daily_stock_returns[f\"excess_return_{i}\"] = daily_stock_returns[i] - daily_rf\n",
        "        #filtering only excess_return columns    \n",
        "        excess_returns = daily_stock_returns.filter(like='excess_return_')\n",
        "        # Define the rolling window for the Sharpe Ratio\n",
        "        rolling_window = 52 # 2 months x 21 trading days/month\n",
        "\n",
        "        # Calculate the rolling Sharpe Ratio\n",
        "        rolling_mean = excess_returns.rolling(rolling_window).mean()\n",
        "        rolling_std = excess_returns.rolling(rolling_window).std()\n",
        "        rolling_sharpe_ratio = (rolling_mean / rolling_std) * (252**0.5)\n",
        "        rolling_sharpe_ratio.columns = rolling_sharpe_ratio.columns.str.replace('excess_return_', '') + '_sharpe_ratio'\n",
        "        rolling_sharpe_ratio.dropna(inplace=True)\n",
        "        \n",
        "        #plotting using plotly\n",
        "        fig = go.Figure()\n",
        "        for stock in rolling_sharpe_ratio.columns:\n",
        "            fig.add_trace(\n",
        "                go.Scatter(x=rolling_sharpe_ratio.index, \n",
        "                           y=rolling_sharpe_ratio[stock], \n",
        "                           mode='lines', \n",
        "                           name=stock, \n",
        "                           hovertemplate='<br>Date: %{x}<br>'+ stock + ': %{y:.2f}<extra></extra>')\n",
        "            )\n",
        "\n",
        "        fig.update_layout(title=\"Sharpe Ratio Comparison\",\n",
        "                          xaxis_title='Date',\n",
        "                          yaxis_title='Sharpe Ratio')\n",
        "\n",
        "        fig.show()\n",
        "        \n",
        "        \n",
        "        #-------------See risk return tradeoff----------------------\n",
        "        #Converting the excess return and volatility in percentage\n",
        "        mean_return = excess_returns.mean()*100\n",
        "        volatility = excess_returns.std()*100\n",
        "\n",
        "        #Create a scatter plot\n",
        "        plt.scatter(volatility, mean_return, s=50, c='blue', edgecolors='black')\n",
        "\n",
        "        #Add labels to the data points\n",
        "        for i, txt in enumerate(excess_returns.columns.tolist()):\n",
        "          plt.annotate(txt.split('_')[-1], (volatility[i], mean_return[i]), ha='center', va='bottom', xytext=(0, 5), textcoords='offset points')\n",
        "\n",
        "        #Set the labels and title\n",
        "        plt.xlabel('Volatility (%)')\n",
        "        plt.ylabel('Mean Excess Return (%)')\n",
        "        plt.title('Risk-Return Tradeoff')\n",
        "\n",
        "        #Add the average line originating from the origin\n",
        "        x = np.linspace(0, max(volatility), 100)\n",
        "        y = x * np.mean(mean_return) / np.mean(volatility)\n",
        "        plt.plot(x, y, color='red', linestyle='dashed')\n",
        "\n",
        "        #Display the plot\n",
        "        plt.show()        \n",
        "        \n",
        "\n",
        "        \n",
        "        \n",
        "\n",
        "    # OPTION 3: Show me forecast on my Portfolio's Performance\n",
        "    elif choice == 'C' or choice == 'c':\n",
        "        \n",
        "        #taking first difference to get feed it pacf for calculating optimal lag\n",
        "        portfolio_diff = portfolio_values.diff().dropna()\n",
        "        \n",
        "        import statsmodels.api as sm\n",
        "        \n",
        "        # Calculate the PACF values\n",
        "        pacf_values = sm.tsa.pacf(portfolio_values, nlags=25)\n",
        "\n",
        "        # Calculate the AIC values for different lag lengths\n",
        "        aic_values = []\n",
        "        for lag in range(1, len(pacf_values)):\n",
        "            model = sm.tsa.AutoReg(portfolio_values, lags=lag).fit()\n",
        "            aic_values.append(model.aic)\n",
        "\n",
        "        # Find the lag length with the minimum AIC value\n",
        "        optimal_lag = aic_values.index(min(aic_values)) + 1\n",
        "\n",
        "        # Find the next significant lag after lag 1\n",
        "        significant_lags = []\n",
        "        for lag, pacf in enumerate(pacf_values[optimal_lag:], start=optimal_lag):\n",
        "            if abs(pacf) >= 2 / (len(portfolio_values) ** 0.5):\n",
        "                significant_lags.append(lag)\n",
        "                break  # Stop searching after finding the first significant lag\n",
        "         \n",
        "        #set train and test length of the dataset\n",
        "        from statsmodels.tsa.arima.model import ARIMA\n",
        "        train_len = int(len(portfolio_values)*0.8)\n",
        "        train = portfolio_values[:train_len]\n",
        "        test = portfolio_values[train_len:]\n",
        "\n",
        "        #give start and end point\n",
        "        start = len(train)\n",
        "        end = len(train) + len(test) - 1\n",
        "\n",
        "        #fit data in arima model\n",
        "        if len(significant_lags) > 0 and significant_lags[0] != 0:\n",
        "            arima_model = ARIMA(train, order=(significant_lags[0], 1, significant_lags[0]))\n",
        "        else:\n",
        "            arima_model = ARIMA(train, order=(8, 1, 8))  # Use default order (8, 1, 8) if no significant lag\n",
        "\n",
        "        arima_result = arima_model.fit()\n",
        "\n",
        "        # Predict ARIMA model\n",
        "        arima_predict = arima_result.predict(start, end)\n",
        "        arima_predict.index = test.index\n",
        "\n",
        "        #mse score\n",
        "        from sklearn.metrics import mean_squared_error, mean_absolute_error, mean_absolute_percentage_error\n",
        "        mape_arima = mean_absolute_percentage_error(test, arima_predict)\n",
        "        mae_arima = mean_absolute_error(test, arima_predict)\n",
        "        mse_arima = mean_squared_error(test, arima_predict)\n",
        "        rmse_arima = np.sqrt(mean_squared_error(test, arima_predict))\n",
        "        arima_perf = {'mape_arima':mape_arima,\n",
        "                    'mae_arima':mae_arima,\n",
        "                    'mse_arima':mse_arima,\n",
        "                    'rmse_arima':rmse_arima}\n",
        "        arima_perf = pd.DataFrame([arima_perf])\n",
        "\n",
        "        # Forecast using ARIMA\n",
        "        if len(significant_lags) > 0 and significant_lags[0] != 0:\n",
        "            arima_model = ARIMA(portfolio_values, order=(significant_lags[0], 1, significant_lags[0]))\n",
        "        else:\n",
        "            arima_model = ARIMA(portfolio_values, order=(8, 1, 8))  # Use default order (8, 1, 8) if no significant lag\n",
        "\n",
        "        arima_result = arima_model.fit()\n",
        "\n",
        "        # Define the forecast index\n",
        "        forecast_index = pd.date_range(start=portfolio_values.index[-1], periods=30, freq='D')\n",
        "        arima_forecast = arima_result.forecast(steps=30)\n",
        "        arima_forecast.index = forecast_index\n",
        "\n",
        "        #plot the forecasted result\n",
        "        import plotly.graph_objs as go\n",
        "        # Create traces\n",
        "        trace_actual = go.Scatter(x=portfolio_values.index, y=portfolio_values.values, name='Actual')\n",
        "        trace_forecast = go.Scatter(x=arima_forecast.index, y=arima_forecast.values, name='ARIMA Forecast')\n",
        "        # Define layout\n",
        "        layout = go.Layout(title='ARIMA forecast', xaxis=dict(title='Date'), yaxis=dict(title='Portfolio Values'))\n",
        "        # Create figure\n",
        "        fig = go.Figure(data=[trace_actual, trace_forecast], layout=layout)\n",
        "        # Show figure\n",
        "        fig.show()\n",
        "\n",
        "        #------------------Calculate the net profit or loss in dollars and percentage-----------------\n",
        "        forecasted_return = (arima_forecast[-1] - portfolio_values.iloc[-1]) / portfolio_values.iloc[-1]\n",
        "        forecasted_value = (forecasted_return + 1) * portfolio_value\n",
        "        net_profit_loss = forecasted_value - portfolio_value\n",
        "        net_profit_loss_pct = net_profit_loss / portfolio_value\n",
        "\n",
        "        # Display the results to the user\n",
        "        if net_profit_loss > 0:\n",
        "            print(f\"You would make profit of ${net_profit_loss:.2f} ({net_profit_loss_pct:.2%}) over the forecasted period.\")\n",
        "        else:\n",
        "            print(f\"You would incurr a loss of ${abs(net_profit_loss):.2f} ({abs(net_profit_loss_pct):.2%}) over the forecasted period.\")\n",
        "\n",
        "        print('\\n',arima_perf)\n",
        "\n",
        "    elif choice == 'Q' or choice == 'q':\n",
        "        print(color.YELLOW + color.BOLD + '\\n> Thank you for using our Portfolio Analysis Tool :)' + color.END)\n",
        "        choice = None\n",
        "        \n",
        "    #for invalid user input choice    \n",
        "    else:\n",
        "        print(color.BOLD + color.UNDERLINE + '\\n> Your input is not a given choice. Please try again...' + color.END) "
      ]
    },
    {
      "attachments": {},
      "cell_type": "markdown",
      "metadata": {},
      "source": [
        "## LSTM Implementation"
      ]
    },
    {
      "cell_type": "code",
      "execution_count": 8,
      "metadata": {},
      "outputs": [
        {
          "name": "stdout",
          "output_type": "stream",
          "text": [
            "Epoch 1/25\n",
            "9/9 [==============================] - 2s 54ms/step - loss: 0.3110 - val_loss: 0.4112\n",
            "Epoch 2/25\n",
            "9/9 [==============================] - 0s 7ms/step - loss: 0.1361 - val_loss: 0.1359\n",
            "Epoch 3/25\n",
            "9/9 [==============================] - 0s 7ms/step - loss: 0.0344 - val_loss: 0.0100\n",
            "Epoch 4/25\n",
            "9/9 [==============================] - 0s 7ms/step - loss: 0.0214 - val_loss: 0.0128\n",
            "Epoch 5/25\n",
            "9/9 [==============================] - 0s 7ms/step - loss: 0.0192 - val_loss: 0.0065\n",
            "Epoch 6/25\n",
            "9/9 [==============================] - 0s 6ms/step - loss: 0.0122 - val_loss: 0.0114\n",
            "Epoch 7/25\n",
            "9/9 [==============================] - 0s 6ms/step - loss: 0.0118 - val_loss: 0.0090\n",
            "Epoch 8/25\n",
            "9/9 [==============================] - 0s 6ms/step - loss: 0.0096 - val_loss: 0.0061\n",
            "Epoch 9/25\n",
            "9/9 [==============================] - 0s 6ms/step - loss: 0.0088 - val_loss: 0.0064\n",
            "Epoch 10/25\n",
            "9/9 [==============================] - 0s 6ms/step - loss: 0.0079 - val_loss: 0.0063\n",
            "Epoch 11/25\n",
            "9/9 [==============================] - 0s 7ms/step - loss: 0.0073 - val_loss: 0.0065\n",
            "Epoch 12/25\n",
            "9/9 [==============================] - 0s 7ms/step - loss: 0.0068 - val_loss: 0.0070\n",
            "Epoch 13/25\n",
            "9/9 [==============================] - 0s 7ms/step - loss: 0.0065 - val_loss: 0.0070\n"
          ]
        }
      ],
      "source": [
        "#importing necessary library\n",
        "import numpy as np\n",
        "import pandas as pd\n",
        "from sklearn.preprocessing import MinMaxScaler\n",
        "from keras.models import Sequential\n",
        "from keras.layers import LSTM, Dense\n",
        "from keras.callbacks import EarlyStopping\n",
        "import matplotlib.pyplot as plt\n",
        "\n",
        "#set train and test length of the dataset\n",
        "train_len = int(len(portfolio_values) * 0.8)\n",
        "train = portfolio_values[:train_len]\n",
        "test = portfolio_values[train_len:]\n",
        "\n",
        "# Normalize the data for LSTM\n",
        "scaler = MinMaxScaler(feature_range=(0, 1))\n",
        "train_scaled = scaler.fit_transform(train.values.reshape(-1, 1))\n",
        "test_scaled = scaler.transform(test.values.reshape(-1, 1))\n",
        "\n",
        "# Creating sequences for LSTM\n",
        "def create_sequences(data, seq_length):\n",
        "    sequences = []\n",
        "    for i in range(len(data) - seq_length):\n",
        "        sequence = data[i : (i + seq_length)]\n",
        "        sequences.append(sequence)\n",
        "    return np.array(sequences)\n",
        "\n",
        "#Adjusting squence length\n",
        "seq_length = 10  \n",
        "X_train = create_sequences(train_scaled, seq_length)\n",
        "y_train = train_scaled[seq_length:]\n",
        "X_test = create_sequences(test_scaled, seq_length)\n",
        "\n",
        "# Reshaping data for LSTM input\n",
        "X_train_reshaped = X_train.reshape((X_train.shape[0], X_train.shape[1], 1))\n",
        "X_test_reshaped = X_test.reshape((X_test.shape[0], X_test.shape[1], 1))\n",
        "\n",
        "# Build the LSTM model\n",
        "model = Sequential()\n",
        "model.add(LSTM(units=30, input_shape=(X_train.shape[1], 1)))\n",
        "model.add(Dense(units=2))\n",
        "model.compile(optimizer='adam', loss='mean_squared_error') #selecting ADAM optimizer for its robustsness\n",
        "\n",
        "# Define early stopping callback to prevent overfitting\n",
        "es_callback = EarlyStopping(monitor='val_loss', patience=5, restore_best_weights=True)\n",
        "\n",
        "# Train the LSTM model\n",
        "history = model.fit(\n",
        "    X_train_reshaped,\n",
        "    y_train,\n",
        "    epochs=25,\n",
        "    batch_size=20,\n",
        "    validation_split=0.1,\n",
        "    callbacks=[es_callback]\n",
        ")\n",
        "\n",
        "# Make predictions on the test set with LSTM\n",
        "predictions_scaled_lstm = model.predict(X_test_reshaped)\n",
        "predictions_lstm = scaler.inverse_transform(predictions_scaled_lstm)"
      ]
    },
    {
      "cell_type": "code",
      "execution_count": 14,
      "metadata": {},
      "outputs": [],
      "source": [
        "# Assume new variables \n",
        "actual_test_values = test \n",
        "lstm_predictions = predictions_lstm\n",
        "\n",
        "# Reshape predictions for comparison \n",
        "lstm_predictions_reshaped = lstm_predictions.reshape(-1, 1)\n",
        "\n",
        "# Adjust lengths\n",
        "lstm_predictions_reshaped = lstm_predictions_reshaped[:len(actual_test_values)]\n",
        "\n",
        "# Just like we calculated performance metrics for ARIMA let calculate metrics for LSTM\n",
        "mape_lstm = mean_absolute_percentage_error(actual_test_values[:len(lstm_predictions_reshaped)], lstm_predictions_reshaped)\n",
        "mae_lstm = mean_absolute_error(actual_test_values[:len(lstm_predictions_reshaped)], lstm_predictions_reshaped)\n",
        "mse_lstm = mean_squared_error(actual_test_values[:len(lstm_predictions_reshaped)], lstm_predictions_reshaped)  \n",
        "rmse_lstm = np.sqrt(mean_squared_error(actual_test_values[:len(lstm_predictions_reshaped)], lstm_predictions_reshaped))\n",
        "# Dictionary of metrics  \n",
        "lstm_perf = {'mape_lstm': mape_lstm, \n",
        "             'mae_lstm': mae_lstm,\n",
        "             'mse_lstm': mse_lstm,\n",
        "             'rmse_lstm': rmse_lstm}\n",
        "\n",
        "# Convert to dataframe\n",
        "lstm_perf = pd.DataFrame([lstm_perf])\n"
      ]
    },
    {
      "cell_type": "code",
      "execution_count": 15,
      "metadata": {},
      "outputs": [
        {
          "data": {
            "text/html": [
              "<div>\n",
              "<style scoped>\n",
              "    .dataframe tbody tr th:only-of-type {\n",
              "        vertical-align: middle;\n",
              "    }\n",
              "\n",
              "    .dataframe tbody tr th {\n",
              "        vertical-align: top;\n",
              "    }\n",
              "\n",
              "    .dataframe thead th {\n",
              "        text-align: right;\n",
              "    }\n",
              "</style>\n",
              "<table border=\"1\" class=\"dataframe\">\n",
              "  <thead>\n",
              "    <tr style=\"text-align: right;\">\n",
              "      <th></th>\n",
              "      <th>mape_lstm</th>\n",
              "      <th>mae_lstm</th>\n",
              "      <th>mse_lstm</th>\n",
              "      <th>rmse_lstm</th>\n",
              "    </tr>\n",
              "  </thead>\n",
              "  <tbody>\n",
              "    <tr>\n",
              "      <th>0</th>\n",
              "      <td>0.056675</td>\n",
              "      <td>12.158788</td>\n",
              "      <td>210.089387</td>\n",
              "      <td>14.494461</td>\n",
              "    </tr>\n",
              "  </tbody>\n",
              "</table>\n",
              "</div>"
            ],
            "text/plain": [
              "   mape_lstm   mae_lstm    mse_lstm  rmse_lstm\n",
              "0   0.056675  12.158788  210.089387  14.494461"
            ]
          },
          "execution_count": 15,
          "metadata": {},
          "output_type": "execute_result"
        }
      ],
      "source": [
        "#check lstm's performance\n",
        "lstm_perf"
      ]
    },
    {
      "cell_type": "code",
      "execution_count": 16,
      "metadata": {},
      "outputs": [
        {
          "data": {
            "text/html": [
              "<div>\n",
              "<style scoped>\n",
              "    .dataframe tbody tr th:only-of-type {\n",
              "        vertical-align: middle;\n",
              "    }\n",
              "\n",
              "    .dataframe tbody tr th {\n",
              "        vertical-align: top;\n",
              "    }\n",
              "\n",
              "    .dataframe thead th {\n",
              "        text-align: right;\n",
              "    }\n",
              "</style>\n",
              "<table border=\"1\" class=\"dataframe\">\n",
              "  <thead>\n",
              "    <tr style=\"text-align: right;\">\n",
              "      <th></th>\n",
              "      <th>mape_arima</th>\n",
              "      <th>mae_arima</th>\n",
              "      <th>mse_arima</th>\n",
              "      <th>rmse_arima</th>\n",
              "    </tr>\n",
              "  </thead>\n",
              "  <tbody>\n",
              "    <tr>\n",
              "      <th>0</th>\n",
              "      <td>0.131369</td>\n",
              "      <td>27.992754</td>\n",
              "      <td>936.865499</td>\n",
              "      <td>30.608259</td>\n",
              "    </tr>\n",
              "  </tbody>\n",
              "</table>\n",
              "</div>"
            ],
            "text/plain": [
              "   mape_arima  mae_arima   mse_arima  rmse_arima\n",
              "0    0.131369  27.992754  936.865499   30.608259"
            ]
          },
          "execution_count": 16,
          "metadata": {},
          "output_type": "execute_result"
        }
      ],
      "source": [
        "#check arima's performance\n",
        "arima_perf"
      ]
    },
    {
      "attachments": {},
      "cell_type": "markdown",
      "metadata": {},
      "source": [
        "Here we can see that LSTM outperformed ARIMA model."
      ]
    },
    {
      "attachments": {},
      "cell_type": "markdown",
      "metadata": {},
      "source": [
        "## For Future Work"
      ]
    },
    {
      "attachments": {},
      "cell_type": "markdown",
      "metadata": {},
      "source": [
        "### Using Prophet"
      ]
    },
    {
      "cell_type": "code",
      "execution_count": null,
      "metadata": {},
      "outputs": [],
      "source": [
        "from prophet import Prophet\n",
        "\n",
        "# Prepare the data\n",
        "df = pd.DataFrame({'ds': portfolio_values.index, 'y': portfolio_values.values})\n",
        "train_size = int(0.8 * len(df))\n",
        "train_df = df[:train_size]\n",
        "test_df = df[train_size:]\n",
        "\n",
        "# Initialize the model\n",
        "m = Prophet()\n",
        "\n",
        "# Fit the model to the training data\n",
        "m.fit(train_df)\n",
        "\n",
        "# Make forecasts for the next 60 days\n",
        "future = m.make_future_dataframe(periods=5)\n",
        "forecast = m.predict(future)\n",
        "\n",
        "# Plot the forecasts\n",
        "fig = m.plot(forecast)\n",
        "plt.title('Prophet Forecast')\n",
        "plt.xlabel('Date')\n",
        "plt.ylabel('Portfolio Value')\n",
        "plt.show()\n",
        "\n",
        "# Calculate MAE and MSE\n",
        "y_true = test_df['y'].values\n",
        "y_pred = forecast.tail(len(test_df))['yhat'].values\n",
        "mae = mean_absolute_error(y_true, y_pred)\n",
        "mse = mean_squared_error(y_true, y_pred)\n",
        "print(f\"Mean Absolute Error: {mae:.2f}\")\n",
        "print(f\"Mean Squared Error: {mse:.2f}\")"
      ]
    },
    {
      "cell_type": "code",
      "execution_count": null,
      "metadata": {},
      "outputs": [],
      "source": [
        "# Calculate the net profit or loss in dollars and percentage\n",
        "forecasted_return = (forecast['yhat'].iloc[-1] - portfolio_values.iloc[-1]) / portfolio_values.iloc[-1]\n",
        "forecasted_value = (forecasted_return + 1) * portfolio_value\n",
        "net_profit_loss = forecasted_value - portfolio_value\n",
        "net_profit_loss_pct = net_profit_loss / portfolio_value\n",
        "\n",
        "# Display the results to the user\n",
        "if net_profit_loss > 0:\n",
        "    print(f\"You would make a profit of ${net_profit_loss:.2f} ({net_profit_loss_pct:.2%}) over the forecasted period.\")\n",
        "else:\n",
        "    print(f\"You would incurr a loss of ${abs(net_profit_loss):.2f} ({abs(net_profit_loss_pct):.2%}) over the forecasted period.\")\n"
      ]
    },
    {
      "cell_type": "code",
      "execution_count": null,
      "metadata": {},
      "outputs": [],
      "source": []
    },
    {
      "attachments": {},
      "cell_type": "markdown",
      "metadata": {},
      "source": [
        "# FOR OPTIMIZATION\n",
        "\n",
        "Optimization for calculating the optimal weights for the assets in portfolio."
      ]
    },
    {
      "cell_type": "code",
      "execution_count": null,
      "metadata": {},
      "outputs": [],
      "source": [
        "# Creating the Portfolio Object\n",
        "port = rp.Portfolio(returns=returns)\n",
        "\n",
        "# To display dataframes values in percentage format\n",
        "pd.options.display.float_format = '{:.4%}'.format\n",
        "\n",
        "# Choose the risk measure\n",
        "rm = 'MSV'  # Semi Standard Deviation\n",
        "\n",
        "# Estimate inputs of the model (historical estimates)\n",
        "method_mu='hist' # Method to estimate expected returns based on historical data.\n",
        "method_cov='hist' # Method to estimate covariance matrix based on historical data.\n",
        "\n",
        "port.assets_stats(method_mu=method_mu, method_cov=method_cov, d=0.94)\n",
        "\n",
        "# Estimate the portfolio that maximizes the risk adjusted return ratio\n",
        "w1 = port.optimization(model='Classic', rm=rm, obj='Sharpe', rf=0.0, l=0, hist=True)\n",
        "\n",
        "# Estimate points in the efficient frontier mean - semi standard deviation\n",
        "ws = port.efficient_frontier(model='Classic', rm=rm, points=20, rf=0, hist=True)\n",
        "\n",
        "# Estimate the risk parity portfolio for semi standard deviation\n",
        "w2 = port.rp_optimization(model='Classic', rm=rm, rf=0, b=None, hist=True)"
      ]
    },
    {
      "cell_type": "code",
      "execution_count": null,
      "metadata": {},
      "outputs": [],
      "source": [
        "w2"
      ]
    },
    {
      "cell_type": "code",
      "execution_count": null,
      "metadata": {},
      "outputs": [],
      "source": [
        "stock_indices"
      ]
    },
    {
      "cell_type": "code",
      "execution_count": null,
      "metadata": {},
      "outputs": [],
      "source": [
        "stock_data"
      ]
    },
    {
      "cell_type": "code",
      "execution_count": null,
      "metadata": {},
      "outputs": [],
      "source": []
    }
  ],
  "metadata": {
    "colab": {
      "provenance": []
    },
    "kernelspec": {
      "display_name": "Python 3",
      "name": "python3"
    },
    "language_info": {
      "codemirror_mode": {
        "name": "ipython",
        "version": 3
      },
      "file_extension": ".py",
      "mimetype": "text/x-python",
      "name": "python",
      "nbconvert_exporter": "python",
      "pygments_lexer": "ipython3",
      "version": "3.9.7"
    }
  },
  "nbformat": 4,
  "nbformat_minor": 0
}
